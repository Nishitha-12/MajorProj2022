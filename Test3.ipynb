{
  "nbformat": 4,
  "nbformat_minor": 0,
  "metadata": {
    "colab": {
      "provenance": [],
      "collapsed_sections": [],
      "include_colab_link": true
    },
    "kernelspec": {
      "name": "python3",
      "display_name": "Python 3"
    },
    "language_info": {
      "name": "python"
    }
  },
  "cells": [
    {
      "cell_type": "markdown",
      "metadata": {
        "id": "view-in-github",
        "colab_type": "text"
      },
      "source": [
        "<a href=\"https://colab.research.google.com/github/Nishitha-12/MajorProj2022/blob/main/Test3.ipynb\" target=\"_parent\"><img src=\"https://colab.research.google.com/assets/colab-badge.svg\" alt=\"Open In Colab\"/></a>"
      ]
    },
    {
      "cell_type": "code",
      "execution_count": 3,
      "metadata": {
        "id": "XuidSjcuu5pa",
        "colab": {
          "base_uri": "https://localhost:8080/",
          "height": 424
        },
        "outputId": "46d40281-e692-4654-9d9c-b89696c5d649"
      },
      "outputs": [
        {
          "output_type": "execute_result",
          "data": {
            "text/plain": [
              "                                               Comments  \\\n",
              "0                                          /*test 529*/   \n",
              "1                                          /*test 525*/   \n",
              "2                                              /*done*/   \n",
              "3                                          /*test 529*/   \n",
              "4                                          /*test 525*/   \n",
              "...                                                 ...   \n",
              "8042  /*we need an additional DG0-node for a dim-dim...   \n",
              "8043  /*vertex/line/face domination\\n(if fe_other is...   \n",
              "8044  /*there are no requirements between continuous...   \n",
              "8045  /*vertex/line/face domination\\n(if fe_other is...   \n",
              "8046  /*the FE_Nothing has no degrees of freedom and...   \n",
              "\n",
              "                                 SurroundingCodeContext       Class  \n",
              "0     -10.   int res = 0;\\n-9.   CURL *curl = NULL;\\...  Not Useful  \n",
              "1     -2.     fprintf(stderr, \"Usage: lib529 [url] [...  Not Useful  \n",
              "2     -10.   multi_add_handle(m, curl);\\n-9.   for(;...  Not Useful  \n",
              "3     -10.   int res = 0;\\n-9.   CURL *curl = NULL;\\...  Not Useful  \n",
              "4     -2.     fprintf(stderr, \"Usage: lib529 [url] [...  Not Useful  \n",
              "...                                                 ...         ...  \n",
              "8042  -10.   riaf.back() = true;\\n-9.   return riaf;...      Useful  \n",
              "8043  -1.       return FiniteElementDomination::no_r...      Useful  \n",
              "8044  -2.   if (codim > 0)\\n-1.     if (dynamic_cast...      Useful  \n",
              "8045  -1.       return FiniteElementDomination::no_r...      Useful  \n",
              "8046  -10.         return FiniteElementDomination::e...      Useful  \n",
              "\n",
              "[8047 rows x 3 columns]"
            ],
            "text/html": [
              "\n",
              "  <div id=\"df-c5bc705f-1e85-4daf-8965-9ba2b2171c67\">\n",
              "    <div class=\"colab-df-container\">\n",
              "      <div>\n",
              "<style scoped>\n",
              "    .dataframe tbody tr th:only-of-type {\n",
              "        vertical-align: middle;\n",
              "    }\n",
              "\n",
              "    .dataframe tbody tr th {\n",
              "        vertical-align: top;\n",
              "    }\n",
              "\n",
              "    .dataframe thead th {\n",
              "        text-align: right;\n",
              "    }\n",
              "</style>\n",
              "<table border=\"1\" class=\"dataframe\">\n",
              "  <thead>\n",
              "    <tr style=\"text-align: right;\">\n",
              "      <th></th>\n",
              "      <th>Comments</th>\n",
              "      <th>SurroundingCodeContext</th>\n",
              "      <th>Class</th>\n",
              "    </tr>\n",
              "  </thead>\n",
              "  <tbody>\n",
              "    <tr>\n",
              "      <th>0</th>\n",
              "      <td>/*test 529*/</td>\n",
              "      <td>-10.   int res = 0;\\n-9.   CURL *curl = NULL;\\...</td>\n",
              "      <td>Not Useful</td>\n",
              "    </tr>\n",
              "    <tr>\n",
              "      <th>1</th>\n",
              "      <td>/*test 525*/</td>\n",
              "      <td>-2.     fprintf(stderr, \"Usage: lib529 [url] [...</td>\n",
              "      <td>Not Useful</td>\n",
              "    </tr>\n",
              "    <tr>\n",
              "      <th>2</th>\n",
              "      <td>/*done*/</td>\n",
              "      <td>-10.   multi_add_handle(m, curl);\\n-9.   for(;...</td>\n",
              "      <td>Not Useful</td>\n",
              "    </tr>\n",
              "    <tr>\n",
              "      <th>3</th>\n",
              "      <td>/*test 529*/</td>\n",
              "      <td>-10.   int res = 0;\\n-9.   CURL *curl = NULL;\\...</td>\n",
              "      <td>Not Useful</td>\n",
              "    </tr>\n",
              "    <tr>\n",
              "      <th>4</th>\n",
              "      <td>/*test 525*/</td>\n",
              "      <td>-2.     fprintf(stderr, \"Usage: lib529 [url] [...</td>\n",
              "      <td>Not Useful</td>\n",
              "    </tr>\n",
              "    <tr>\n",
              "      <th>...</th>\n",
              "      <td>...</td>\n",
              "      <td>...</td>\n",
              "      <td>...</td>\n",
              "    </tr>\n",
              "    <tr>\n",
              "      <th>8042</th>\n",
              "      <td>/*we need an additional DG0-node for a dim-dim...</td>\n",
              "      <td>-10.   riaf.back() = true;\\n-9.   return riaf;...</td>\n",
              "      <td>Useful</td>\n",
              "    </tr>\n",
              "    <tr>\n",
              "      <th>8043</th>\n",
              "      <td>/*vertex/line/face domination\\n(if fe_other is...</td>\n",
              "      <td>-1.       return FiniteElementDomination::no_r...</td>\n",
              "      <td>Useful</td>\n",
              "    </tr>\n",
              "    <tr>\n",
              "      <th>8044</th>\n",
              "      <td>/*there are no requirements between continuous...</td>\n",
              "      <td>-2.   if (codim &gt; 0)\\n-1.     if (dynamic_cast...</td>\n",
              "      <td>Useful</td>\n",
              "    </tr>\n",
              "    <tr>\n",
              "      <th>8045</th>\n",
              "      <td>/*vertex/line/face domination\\n(if fe_other is...</td>\n",
              "      <td>-1.       return FiniteElementDomination::no_r...</td>\n",
              "      <td>Useful</td>\n",
              "    </tr>\n",
              "    <tr>\n",
              "      <th>8046</th>\n",
              "      <td>/*the FE_Nothing has no degrees of freedom and...</td>\n",
              "      <td>-10.         return FiniteElementDomination::e...</td>\n",
              "      <td>Useful</td>\n",
              "    </tr>\n",
              "  </tbody>\n",
              "</table>\n",
              "<p>8047 rows × 3 columns</p>\n",
              "</div>\n",
              "      <button class=\"colab-df-convert\" onclick=\"convertToInteractive('df-c5bc705f-1e85-4daf-8965-9ba2b2171c67')\"\n",
              "              title=\"Convert this dataframe to an interactive table.\"\n",
              "              style=\"display:none;\">\n",
              "        \n",
              "  <svg xmlns=\"http://www.w3.org/2000/svg\" height=\"24px\"viewBox=\"0 0 24 24\"\n",
              "       width=\"24px\">\n",
              "    <path d=\"M0 0h24v24H0V0z\" fill=\"none\"/>\n",
              "    <path d=\"M18.56 5.44l.94 2.06.94-2.06 2.06-.94-2.06-.94-.94-2.06-.94 2.06-2.06.94zm-11 1L8.5 8.5l.94-2.06 2.06-.94-2.06-.94L8.5 2.5l-.94 2.06-2.06.94zm10 10l.94 2.06.94-2.06 2.06-.94-2.06-.94-.94-2.06-.94 2.06-2.06.94z\"/><path d=\"M17.41 7.96l-1.37-1.37c-.4-.4-.92-.59-1.43-.59-.52 0-1.04.2-1.43.59L10.3 9.45l-7.72 7.72c-.78.78-.78 2.05 0 2.83L4 21.41c.39.39.9.59 1.41.59.51 0 1.02-.2 1.41-.59l7.78-7.78 2.81-2.81c.8-.78.8-2.07 0-2.86zM5.41 20L4 18.59l7.72-7.72 1.47 1.35L5.41 20z\"/>\n",
              "  </svg>\n",
              "      </button>\n",
              "      \n",
              "  <style>\n",
              "    .colab-df-container {\n",
              "      display:flex;\n",
              "      flex-wrap:wrap;\n",
              "      gap: 12px;\n",
              "    }\n",
              "\n",
              "    .colab-df-convert {\n",
              "      background-color: #E8F0FE;\n",
              "      border: none;\n",
              "      border-radius: 50%;\n",
              "      cursor: pointer;\n",
              "      display: none;\n",
              "      fill: #1967D2;\n",
              "      height: 32px;\n",
              "      padding: 0 0 0 0;\n",
              "      width: 32px;\n",
              "    }\n",
              "\n",
              "    .colab-df-convert:hover {\n",
              "      background-color: #E2EBFA;\n",
              "      box-shadow: 0px 1px 2px rgba(60, 64, 67, 0.3), 0px 1px 3px 1px rgba(60, 64, 67, 0.15);\n",
              "      fill: #174EA6;\n",
              "    }\n",
              "\n",
              "    [theme=dark] .colab-df-convert {\n",
              "      background-color: #3B4455;\n",
              "      fill: #D2E3FC;\n",
              "    }\n",
              "\n",
              "    [theme=dark] .colab-df-convert:hover {\n",
              "      background-color: #434B5C;\n",
              "      box-shadow: 0px 1px 3px 1px rgba(0, 0, 0, 0.15);\n",
              "      filter: drop-shadow(0px 1px 2px rgba(0, 0, 0, 0.3));\n",
              "      fill: #FFFFFF;\n",
              "    }\n",
              "  </style>\n",
              "\n",
              "      <script>\n",
              "        const buttonEl =\n",
              "          document.querySelector('#df-c5bc705f-1e85-4daf-8965-9ba2b2171c67 button.colab-df-convert');\n",
              "        buttonEl.style.display =\n",
              "          google.colab.kernel.accessAllowed ? 'block' : 'none';\n",
              "\n",
              "        async function convertToInteractive(key) {\n",
              "          const element = document.querySelector('#df-c5bc705f-1e85-4daf-8965-9ba2b2171c67');\n",
              "          const dataTable =\n",
              "            await google.colab.kernel.invokeFunction('convertToInteractive',\n",
              "                                                     [key], {});\n",
              "          if (!dataTable) return;\n",
              "\n",
              "          const docLinkHtml = 'Like what you see? Visit the ' +\n",
              "            '<a target=\"_blank\" href=https://colab.research.google.com/notebooks/data_table.ipynb>data table notebook</a>'\n",
              "            + ' to learn more about interactive tables.';\n",
              "          element.innerHTML = '';\n",
              "          dataTable['output_type'] = 'display_data';\n",
              "          await google.colab.output.renderOutput(dataTable, element);\n",
              "          const docLink = document.createElement('div');\n",
              "          docLink.innerHTML = docLinkHtml;\n",
              "          element.appendChild(docLink);\n",
              "        }\n",
              "      </script>\n",
              "    </div>\n",
              "  </div>\n",
              "  "
            ]
          },
          "metadata": {},
          "execution_count": 3
        }
      ],
      "source": [
        "import pandas as pd\n",
        "data = pd.read_csv('IRSE_FIRE_2022_Track_Training_Data_preprocessed.csv')\n",
        "data"
      ]
    },
    {
      "cell_type": "code",
      "source": [
        "from google.colab import drive\n",
        "drive.mount('/content/drive')"
      ],
      "metadata": {
        "colab": {
          "base_uri": "https://localhost:8080/"
        },
        "id": "9aRkMz1lf2_j",
        "outputId": "0da98992-e939-430e-c934-15801c86c900"
      },
      "execution_count": 4,
      "outputs": [
        {
          "output_type": "stream",
          "name": "stdout",
          "text": [
            "Drive already mounted at /content/drive; to attempt to forcibly remount, call drive.mount(\"/content/drive\", force_remount=True).\n"
          ]
        }
      ]
    },
    {
      "cell_type": "code",
      "source": [
        "cd /content/drive/MyDrive/IRSE"
      ],
      "metadata": {
        "colab": {
          "base_uri": "https://localhost:8080/"
        },
        "id": "5VBFjuqyym1m",
        "outputId": "6bb51779-e5c1-471a-a186-51eaf986ad79"
      },
      "execution_count": 5,
      "outputs": [
        {
          "output_type": "stream",
          "name": "stdout",
          "text": [
            "/content/drive/MyDrive/IRSE\n"
          ]
        }
      ]
    },
    {
      "cell_type": "code",
      "source": [
        "#Date of Release: 1st June 2022. 8048 rows\n",
        "data.head()"
      ],
      "metadata": {
        "colab": {
          "base_uri": "https://localhost:8080/",
          "height": 206
        },
        "id": "hUyTCI7CziAb",
        "outputId": "686540ed-1e62-41ae-f3b6-7b2d71f38a6b"
      },
      "execution_count": 6,
      "outputs": [
        {
          "output_type": "execute_result",
          "data": {
            "text/plain": [
              "       Comments                             SurroundingCodeContext       Class\n",
              "0  /*test 529*/  -10.   int res = 0;\\n-9.   CURL *curl = NULL;\\...  Not Useful\n",
              "1  /*test 525*/  -2.     fprintf(stderr, \"Usage: lib529 [url] [...  Not Useful\n",
              "2      /*done*/  -10.   multi_add_handle(m, curl);\\n-9.   for(;...  Not Useful\n",
              "3  /*test 529*/  -10.   int res = 0;\\n-9.   CURL *curl = NULL;\\...  Not Useful\n",
              "4  /*test 525*/  -2.     fprintf(stderr, \"Usage: lib529 [url] [...  Not Useful"
            ],
            "text/html": [
              "\n",
              "  <div id=\"df-0862b803-7622-4bae-bff2-662464edc8cf\">\n",
              "    <div class=\"colab-df-container\">\n",
              "      <div>\n",
              "<style scoped>\n",
              "    .dataframe tbody tr th:only-of-type {\n",
              "        vertical-align: middle;\n",
              "    }\n",
              "\n",
              "    .dataframe tbody tr th {\n",
              "        vertical-align: top;\n",
              "    }\n",
              "\n",
              "    .dataframe thead th {\n",
              "        text-align: right;\n",
              "    }\n",
              "</style>\n",
              "<table border=\"1\" class=\"dataframe\">\n",
              "  <thead>\n",
              "    <tr style=\"text-align: right;\">\n",
              "      <th></th>\n",
              "      <th>Comments</th>\n",
              "      <th>SurroundingCodeContext</th>\n",
              "      <th>Class</th>\n",
              "    </tr>\n",
              "  </thead>\n",
              "  <tbody>\n",
              "    <tr>\n",
              "      <th>0</th>\n",
              "      <td>/*test 529*/</td>\n",
              "      <td>-10.   int res = 0;\\n-9.   CURL *curl = NULL;\\...</td>\n",
              "      <td>Not Useful</td>\n",
              "    </tr>\n",
              "    <tr>\n",
              "      <th>1</th>\n",
              "      <td>/*test 525*/</td>\n",
              "      <td>-2.     fprintf(stderr, \"Usage: lib529 [url] [...</td>\n",
              "      <td>Not Useful</td>\n",
              "    </tr>\n",
              "    <tr>\n",
              "      <th>2</th>\n",
              "      <td>/*done*/</td>\n",
              "      <td>-10.   multi_add_handle(m, curl);\\n-9.   for(;...</td>\n",
              "      <td>Not Useful</td>\n",
              "    </tr>\n",
              "    <tr>\n",
              "      <th>3</th>\n",
              "      <td>/*test 529*/</td>\n",
              "      <td>-10.   int res = 0;\\n-9.   CURL *curl = NULL;\\...</td>\n",
              "      <td>Not Useful</td>\n",
              "    </tr>\n",
              "    <tr>\n",
              "      <th>4</th>\n",
              "      <td>/*test 525*/</td>\n",
              "      <td>-2.     fprintf(stderr, \"Usage: lib529 [url] [...</td>\n",
              "      <td>Not Useful</td>\n",
              "    </tr>\n",
              "  </tbody>\n",
              "</table>\n",
              "</div>\n",
              "      <button class=\"colab-df-convert\" onclick=\"convertToInteractive('df-0862b803-7622-4bae-bff2-662464edc8cf')\"\n",
              "              title=\"Convert this dataframe to an interactive table.\"\n",
              "              style=\"display:none;\">\n",
              "        \n",
              "  <svg xmlns=\"http://www.w3.org/2000/svg\" height=\"24px\"viewBox=\"0 0 24 24\"\n",
              "       width=\"24px\">\n",
              "    <path d=\"M0 0h24v24H0V0z\" fill=\"none\"/>\n",
              "    <path d=\"M18.56 5.44l.94 2.06.94-2.06 2.06-.94-2.06-.94-.94-2.06-.94 2.06-2.06.94zm-11 1L8.5 8.5l.94-2.06 2.06-.94-2.06-.94L8.5 2.5l-.94 2.06-2.06.94zm10 10l.94 2.06.94-2.06 2.06-.94-2.06-.94-.94-2.06-.94 2.06-2.06.94z\"/><path d=\"M17.41 7.96l-1.37-1.37c-.4-.4-.92-.59-1.43-.59-.52 0-1.04.2-1.43.59L10.3 9.45l-7.72 7.72c-.78.78-.78 2.05 0 2.83L4 21.41c.39.39.9.59 1.41.59.51 0 1.02-.2 1.41-.59l7.78-7.78 2.81-2.81c.8-.78.8-2.07 0-2.86zM5.41 20L4 18.59l7.72-7.72 1.47 1.35L5.41 20z\"/>\n",
              "  </svg>\n",
              "      </button>\n",
              "      \n",
              "  <style>\n",
              "    .colab-df-container {\n",
              "      display:flex;\n",
              "      flex-wrap:wrap;\n",
              "      gap: 12px;\n",
              "    }\n",
              "\n",
              "    .colab-df-convert {\n",
              "      background-color: #E8F0FE;\n",
              "      border: none;\n",
              "      border-radius: 50%;\n",
              "      cursor: pointer;\n",
              "      display: none;\n",
              "      fill: #1967D2;\n",
              "      height: 32px;\n",
              "      padding: 0 0 0 0;\n",
              "      width: 32px;\n",
              "    }\n",
              "\n",
              "    .colab-df-convert:hover {\n",
              "      background-color: #E2EBFA;\n",
              "      box-shadow: 0px 1px 2px rgba(60, 64, 67, 0.3), 0px 1px 3px 1px rgba(60, 64, 67, 0.15);\n",
              "      fill: #174EA6;\n",
              "    }\n",
              "\n",
              "    [theme=dark] .colab-df-convert {\n",
              "      background-color: #3B4455;\n",
              "      fill: #D2E3FC;\n",
              "    }\n",
              "\n",
              "    [theme=dark] .colab-df-convert:hover {\n",
              "      background-color: #434B5C;\n",
              "      box-shadow: 0px 1px 3px 1px rgba(0, 0, 0, 0.15);\n",
              "      filter: drop-shadow(0px 1px 2px rgba(0, 0, 0, 0.3));\n",
              "      fill: #FFFFFF;\n",
              "    }\n",
              "  </style>\n",
              "\n",
              "      <script>\n",
              "        const buttonEl =\n",
              "          document.querySelector('#df-0862b803-7622-4bae-bff2-662464edc8cf button.colab-df-convert');\n",
              "        buttonEl.style.display =\n",
              "          google.colab.kernel.accessAllowed ? 'block' : 'none';\n",
              "\n",
              "        async function convertToInteractive(key) {\n",
              "          const element = document.querySelector('#df-0862b803-7622-4bae-bff2-662464edc8cf');\n",
              "          const dataTable =\n",
              "            await google.colab.kernel.invokeFunction('convertToInteractive',\n",
              "                                                     [key], {});\n",
              "          if (!dataTable) return;\n",
              "\n",
              "          const docLinkHtml = 'Like what you see? Visit the ' +\n",
              "            '<a target=\"_blank\" href=https://colab.research.google.com/notebooks/data_table.ipynb>data table notebook</a>'\n",
              "            + ' to learn more about interactive tables.';\n",
              "          element.innerHTML = '';\n",
              "          dataTable['output_type'] = 'display_data';\n",
              "          await google.colab.output.renderOutput(dataTable, element);\n",
              "          const docLink = document.createElement('div');\n",
              "          docLink.innerHTML = docLinkHtml;\n",
              "          element.appendChild(docLink);\n",
              "        }\n",
              "      </script>\n",
              "    </div>\n",
              "  </div>\n",
              "  "
            ]
          },
          "metadata": {},
          "execution_count": 6
        }
      ]
    },
    {
      "cell_type": "code",
      "source": [
        "data.info()"
      ],
      "metadata": {
        "colab": {
          "base_uri": "https://localhost:8080/"
        },
        "id": "4dA4tTIM0Jxn",
        "outputId": "bb5cdcfe-801e-4a28-8966-05f7c2982b52"
      },
      "execution_count": 7,
      "outputs": [
        {
          "output_type": "stream",
          "name": "stdout",
          "text": [
            "<class 'pandas.core.frame.DataFrame'>\n",
            "RangeIndex: 8047 entries, 0 to 8046\n",
            "Data columns (total 3 columns):\n",
            " #   Column                  Non-Null Count  Dtype \n",
            "---  ------                  --------------  ----- \n",
            " 0   Comments                8047 non-null   object\n",
            " 1   SurroundingCodeContext  8047 non-null   object\n",
            " 2   Class                   8047 non-null   object\n",
            "dtypes: object(3)\n",
            "memory usage: 188.7+ KB\n"
          ]
        }
      ]
    },
    {
      "cell_type": "code",
      "source": [
        "data.describe().transpose()"
      ],
      "metadata": {
        "colab": {
          "base_uri": "https://localhost:8080/",
          "height": 143
        },
        "id": "P709g9sw0RFh",
        "outputId": "46f22907-8e62-4771-c86a-fb89c8c51e6c"
      },
      "execution_count": 8,
      "outputs": [
        {
          "output_type": "execute_result",
          "data": {
            "text/plain": [
              "                       count unique  \\\n",
              "Comments                8047   4992   \n",
              "SurroundingCodeContext  8047   5949   \n",
              "Class                   8047      2   \n",
              "\n",
              "                                                                      top  \\\n",
              "Comments                /*********************************************...   \n",
              "SurroundingCodeContext  -5. namespace mu\\n-4. {\\n-3. \\tstd::locale Par...   \n",
              "Class                                                              Useful   \n",
              "\n",
              "                        freq  \n",
              "Comments                 144  \n",
              "SurroundingCodeContext    52  \n",
              "Class                   4337  "
            ],
            "text/html": [
              "\n",
              "  <div id=\"df-83cb6536-4736-476e-b2b7-06ead576d9be\">\n",
              "    <div class=\"colab-df-container\">\n",
              "      <div>\n",
              "<style scoped>\n",
              "    .dataframe tbody tr th:only-of-type {\n",
              "        vertical-align: middle;\n",
              "    }\n",
              "\n",
              "    .dataframe tbody tr th {\n",
              "        vertical-align: top;\n",
              "    }\n",
              "\n",
              "    .dataframe thead th {\n",
              "        text-align: right;\n",
              "    }\n",
              "</style>\n",
              "<table border=\"1\" class=\"dataframe\">\n",
              "  <thead>\n",
              "    <tr style=\"text-align: right;\">\n",
              "      <th></th>\n",
              "      <th>count</th>\n",
              "      <th>unique</th>\n",
              "      <th>top</th>\n",
              "      <th>freq</th>\n",
              "    </tr>\n",
              "  </thead>\n",
              "  <tbody>\n",
              "    <tr>\n",
              "      <th>Comments</th>\n",
              "      <td>8047</td>\n",
              "      <td>4992</td>\n",
              "      <td>/*********************************************...</td>\n",
              "      <td>144</td>\n",
              "    </tr>\n",
              "    <tr>\n",
              "      <th>SurroundingCodeContext</th>\n",
              "      <td>8047</td>\n",
              "      <td>5949</td>\n",
              "      <td>-5. namespace mu\\n-4. {\\n-3. \\tstd::locale Par...</td>\n",
              "      <td>52</td>\n",
              "    </tr>\n",
              "    <tr>\n",
              "      <th>Class</th>\n",
              "      <td>8047</td>\n",
              "      <td>2</td>\n",
              "      <td>Useful</td>\n",
              "      <td>4337</td>\n",
              "    </tr>\n",
              "  </tbody>\n",
              "</table>\n",
              "</div>\n",
              "      <button class=\"colab-df-convert\" onclick=\"convertToInteractive('df-83cb6536-4736-476e-b2b7-06ead576d9be')\"\n",
              "              title=\"Convert this dataframe to an interactive table.\"\n",
              "              style=\"display:none;\">\n",
              "        \n",
              "  <svg xmlns=\"http://www.w3.org/2000/svg\" height=\"24px\"viewBox=\"0 0 24 24\"\n",
              "       width=\"24px\">\n",
              "    <path d=\"M0 0h24v24H0V0z\" fill=\"none\"/>\n",
              "    <path d=\"M18.56 5.44l.94 2.06.94-2.06 2.06-.94-2.06-.94-.94-2.06-.94 2.06-2.06.94zm-11 1L8.5 8.5l.94-2.06 2.06-.94-2.06-.94L8.5 2.5l-.94 2.06-2.06.94zm10 10l.94 2.06.94-2.06 2.06-.94-2.06-.94-.94-2.06-.94 2.06-2.06.94z\"/><path d=\"M17.41 7.96l-1.37-1.37c-.4-.4-.92-.59-1.43-.59-.52 0-1.04.2-1.43.59L10.3 9.45l-7.72 7.72c-.78.78-.78 2.05 0 2.83L4 21.41c.39.39.9.59 1.41.59.51 0 1.02-.2 1.41-.59l7.78-7.78 2.81-2.81c.8-.78.8-2.07 0-2.86zM5.41 20L4 18.59l7.72-7.72 1.47 1.35L5.41 20z\"/>\n",
              "  </svg>\n",
              "      </button>\n",
              "      \n",
              "  <style>\n",
              "    .colab-df-container {\n",
              "      display:flex;\n",
              "      flex-wrap:wrap;\n",
              "      gap: 12px;\n",
              "    }\n",
              "\n",
              "    .colab-df-convert {\n",
              "      background-color: #E8F0FE;\n",
              "      border: none;\n",
              "      border-radius: 50%;\n",
              "      cursor: pointer;\n",
              "      display: none;\n",
              "      fill: #1967D2;\n",
              "      height: 32px;\n",
              "      padding: 0 0 0 0;\n",
              "      width: 32px;\n",
              "    }\n",
              "\n",
              "    .colab-df-convert:hover {\n",
              "      background-color: #E2EBFA;\n",
              "      box-shadow: 0px 1px 2px rgba(60, 64, 67, 0.3), 0px 1px 3px 1px rgba(60, 64, 67, 0.15);\n",
              "      fill: #174EA6;\n",
              "    }\n",
              "\n",
              "    [theme=dark] .colab-df-convert {\n",
              "      background-color: #3B4455;\n",
              "      fill: #D2E3FC;\n",
              "    }\n",
              "\n",
              "    [theme=dark] .colab-df-convert:hover {\n",
              "      background-color: #434B5C;\n",
              "      box-shadow: 0px 1px 3px 1px rgba(0, 0, 0, 0.15);\n",
              "      filter: drop-shadow(0px 1px 2px rgba(0, 0, 0, 0.3));\n",
              "      fill: #FFFFFF;\n",
              "    }\n",
              "  </style>\n",
              "\n",
              "      <script>\n",
              "        const buttonEl =\n",
              "          document.querySelector('#df-83cb6536-4736-476e-b2b7-06ead576d9be button.colab-df-convert');\n",
              "        buttonEl.style.display =\n",
              "          google.colab.kernel.accessAllowed ? 'block' : 'none';\n",
              "\n",
              "        async function convertToInteractive(key) {\n",
              "          const element = document.querySelector('#df-83cb6536-4736-476e-b2b7-06ead576d9be');\n",
              "          const dataTable =\n",
              "            await google.colab.kernel.invokeFunction('convertToInteractive',\n",
              "                                                     [key], {});\n",
              "          if (!dataTable) return;\n",
              "\n",
              "          const docLinkHtml = 'Like what you see? Visit the ' +\n",
              "            '<a target=\"_blank\" href=https://colab.research.google.com/notebooks/data_table.ipynb>data table notebook</a>'\n",
              "            + ' to learn more about interactive tables.';\n",
              "          element.innerHTML = '';\n",
              "          dataTable['output_type'] = 'display_data';\n",
              "          await google.colab.output.renderOutput(dataTable, element);\n",
              "          const docLink = document.createElement('div');\n",
              "          docLink.innerHTML = docLinkHtml;\n",
              "          element.appendChild(docLink);\n",
              "        }\n",
              "      </script>\n",
              "    </div>\n",
              "  </div>\n",
              "  "
            ]
          },
          "metadata": {},
          "execution_count": 8
        }
      ]
    },
    {
      "cell_type": "markdown",
      "source": [
        "# **DATA CLEANING**"
      ],
      "metadata": {
        "id": "ERu_gTBy0j8W"
      }
    },
    {
      "cell_type": "code",
      "source": [
        "#checking for any null values \n",
        "count = data.isnull().sum().sort_values(ascending=False)\n",
        "percentage = ((data.isnull().sum()/len(data)*100)).sort_values(ascending=False)\n",
        "missing_data = pd.concat([count, percentage], axis=1,\n",
        "keys=['Count','Percentage'])\n",
        "\n",
        "print('Count and percentage of missing values for the columns:')\n",
        "\n",
        "missing_data"
      ],
      "metadata": {
        "colab": {
          "base_uri": "https://localhost:8080/",
          "height": 161
        },
        "id": "4MRNjHRy0ru_",
        "outputId": "3998bde1-2559-4d4b-c54c-4c806134835d"
      },
      "execution_count": 9,
      "outputs": [
        {
          "output_type": "stream",
          "name": "stdout",
          "text": [
            "Count and percentage of missing values for the columns:\n"
          ]
        },
        {
          "output_type": "execute_result",
          "data": {
            "text/plain": [
              "                        Count  Percentage\n",
              "Comments                    0         0.0\n",
              "SurroundingCodeContext      0         0.0\n",
              "Class                       0         0.0"
            ],
            "text/html": [
              "\n",
              "  <div id=\"df-90b1b1f0-389f-4641-ad9d-44d5bbbd18a3\">\n",
              "    <div class=\"colab-df-container\">\n",
              "      <div>\n",
              "<style scoped>\n",
              "    .dataframe tbody tr th:only-of-type {\n",
              "        vertical-align: middle;\n",
              "    }\n",
              "\n",
              "    .dataframe tbody tr th {\n",
              "        vertical-align: top;\n",
              "    }\n",
              "\n",
              "    .dataframe thead th {\n",
              "        text-align: right;\n",
              "    }\n",
              "</style>\n",
              "<table border=\"1\" class=\"dataframe\">\n",
              "  <thead>\n",
              "    <tr style=\"text-align: right;\">\n",
              "      <th></th>\n",
              "      <th>Count</th>\n",
              "      <th>Percentage</th>\n",
              "    </tr>\n",
              "  </thead>\n",
              "  <tbody>\n",
              "    <tr>\n",
              "      <th>Comments</th>\n",
              "      <td>0</td>\n",
              "      <td>0.0</td>\n",
              "    </tr>\n",
              "    <tr>\n",
              "      <th>SurroundingCodeContext</th>\n",
              "      <td>0</td>\n",
              "      <td>0.0</td>\n",
              "    </tr>\n",
              "    <tr>\n",
              "      <th>Class</th>\n",
              "      <td>0</td>\n",
              "      <td>0.0</td>\n",
              "    </tr>\n",
              "  </tbody>\n",
              "</table>\n",
              "</div>\n",
              "      <button class=\"colab-df-convert\" onclick=\"convertToInteractive('df-90b1b1f0-389f-4641-ad9d-44d5bbbd18a3')\"\n",
              "              title=\"Convert this dataframe to an interactive table.\"\n",
              "              style=\"display:none;\">\n",
              "        \n",
              "  <svg xmlns=\"http://www.w3.org/2000/svg\" height=\"24px\"viewBox=\"0 0 24 24\"\n",
              "       width=\"24px\">\n",
              "    <path d=\"M0 0h24v24H0V0z\" fill=\"none\"/>\n",
              "    <path d=\"M18.56 5.44l.94 2.06.94-2.06 2.06-.94-2.06-.94-.94-2.06-.94 2.06-2.06.94zm-11 1L8.5 8.5l.94-2.06 2.06-.94-2.06-.94L8.5 2.5l-.94 2.06-2.06.94zm10 10l.94 2.06.94-2.06 2.06-.94-2.06-.94-.94-2.06-.94 2.06-2.06.94z\"/><path d=\"M17.41 7.96l-1.37-1.37c-.4-.4-.92-.59-1.43-.59-.52 0-1.04.2-1.43.59L10.3 9.45l-7.72 7.72c-.78.78-.78 2.05 0 2.83L4 21.41c.39.39.9.59 1.41.59.51 0 1.02-.2 1.41-.59l7.78-7.78 2.81-2.81c.8-.78.8-2.07 0-2.86zM5.41 20L4 18.59l7.72-7.72 1.47 1.35L5.41 20z\"/>\n",
              "  </svg>\n",
              "      </button>\n",
              "      \n",
              "  <style>\n",
              "    .colab-df-container {\n",
              "      display:flex;\n",
              "      flex-wrap:wrap;\n",
              "      gap: 12px;\n",
              "    }\n",
              "\n",
              "    .colab-df-convert {\n",
              "      background-color: #E8F0FE;\n",
              "      border: none;\n",
              "      border-radius: 50%;\n",
              "      cursor: pointer;\n",
              "      display: none;\n",
              "      fill: #1967D2;\n",
              "      height: 32px;\n",
              "      padding: 0 0 0 0;\n",
              "      width: 32px;\n",
              "    }\n",
              "\n",
              "    .colab-df-convert:hover {\n",
              "      background-color: #E2EBFA;\n",
              "      box-shadow: 0px 1px 2px rgba(60, 64, 67, 0.3), 0px 1px 3px 1px rgba(60, 64, 67, 0.15);\n",
              "      fill: #174EA6;\n",
              "    }\n",
              "\n",
              "    [theme=dark] .colab-df-convert {\n",
              "      background-color: #3B4455;\n",
              "      fill: #D2E3FC;\n",
              "    }\n",
              "\n",
              "    [theme=dark] .colab-df-convert:hover {\n",
              "      background-color: #434B5C;\n",
              "      box-shadow: 0px 1px 3px 1px rgba(0, 0, 0, 0.15);\n",
              "      filter: drop-shadow(0px 1px 2px rgba(0, 0, 0, 0.3));\n",
              "      fill: #FFFFFF;\n",
              "    }\n",
              "  </style>\n",
              "\n",
              "      <script>\n",
              "        const buttonEl =\n",
              "          document.querySelector('#df-90b1b1f0-389f-4641-ad9d-44d5bbbd18a3 button.colab-df-convert');\n",
              "        buttonEl.style.display =\n",
              "          google.colab.kernel.accessAllowed ? 'block' : 'none';\n",
              "\n",
              "        async function convertToInteractive(key) {\n",
              "          const element = document.querySelector('#df-90b1b1f0-389f-4641-ad9d-44d5bbbd18a3');\n",
              "          const dataTable =\n",
              "            await google.colab.kernel.invokeFunction('convertToInteractive',\n",
              "                                                     [key], {});\n",
              "          if (!dataTable) return;\n",
              "\n",
              "          const docLinkHtml = 'Like what you see? Visit the ' +\n",
              "            '<a target=\"_blank\" href=https://colab.research.google.com/notebooks/data_table.ipynb>data table notebook</a>'\n",
              "            + ' to learn more about interactive tables.';\n",
              "          element.innerHTML = '';\n",
              "          dataTable['output_type'] = 'display_data';\n",
              "          await google.colab.output.renderOutput(dataTable, element);\n",
              "          const docLink = document.createElement('div');\n",
              "          docLink.innerHTML = docLinkHtml;\n",
              "          element.appendChild(docLink);\n",
              "        }\n",
              "      </script>\n",
              "    </div>\n",
              "  </div>\n",
              "  "
            ]
          },
          "metadata": {},
          "execution_count": 9
        }
      ]
    },
    {
      "cell_type": "code",
      "source": [
        "#Checking for the Distribution\n",
        "import matplotlib.pyplot as plt\n",
        "%matplotlib inline\n",
        "print('Percentage for default\\n')\n",
        "print(round(data.Class.value_counts(normalize=True)*100,2))\n",
        "round(data.Class.value_counts(normalize=True)*100,2).plot(kind='bar')\n",
        "plt.title('Percentage Distributions by class type')\n",
        "plt.show()"
      ],
      "metadata": {
        "colab": {
          "base_uri": "https://localhost:8080/",
          "height": 410
        },
        "id": "CvM51QJd05El",
        "outputId": "40d1e119-3d83-41a1-ea01-b61250621dab"
      },
      "execution_count": 10,
      "outputs": [
        {
          "output_type": "stream",
          "name": "stdout",
          "text": [
            "Percentage for default\n",
            "\n",
            "Useful        53.9\n",
            "Not Useful    46.1\n",
            "Name: Class, dtype: float64\n"
          ]
        },
        {
          "output_type": "display_data",
          "data": {
            "text/plain": [
              "<Figure size 432x288 with 1 Axes>"
            ],
            "image/png": "[encoded data removed]"
          },
          "metadata": {
            "needs_background": "light"
          }
        }
      ]
    },
    {
      "cell_type": "code",
      "source": [
        "# Apply first level cleaning\n",
        "import re\n",
        "import string\n",
        "\n",
        "#This function converts to lower-case, removes square bracket, removes numbers and punctuation\n",
        "def text_clean_1(text):\n",
        "    text = text.lower()\n",
        "    text = re.sub('\\[.*?\\]', '', text)\n",
        "    text = re.sub('[%s]' % re.escape(string.punctuation), '', text)\n",
        "    text = re.sub('\\w*\\d\\w*', '', text)\n",
        "    return text\n",
        "\n",
        "cleaned1 = lambda x: text_clean_1(x)"
      ],
      "metadata": {
        "id": "Rntvxe7Q1M5M"
      },
      "execution_count": 11,
      "outputs": []
    },
    {
      "cell_type": "code",
      "source": [
        "# Let's take a look at the updated text\n",
        "data['cleaned_comments'] = pd.DataFrame(data.Comments.apply(cleaned1))\n",
        "data.head(10)"
      ],
      "metadata": {
        "colab": {
          "base_uri": "https://localhost:8080/",
          "height": 363
        },
        "id": "xcqlsM9u1Q8v",
        "outputId": "3151c502-40d7-40a7-8d04-d7829603e36b"
      },
      "execution_count": 12,
      "outputs": [
        {
          "output_type": "execute_result",
          "data": {
            "text/plain": [
              "                                            Comments  \\\n",
              "0                                       /*test 529*/   \n",
              "1                                       /*test 525*/   \n",
              "2                                           /*done*/   \n",
              "3                                       /*test 529*/   \n",
              "4                                       /*test 525*/   \n",
              "5  /*argv1 = URL\\n * argv2 = proxy\\n * argv3 = no...   \n",
              "6                         /*enable ascii/text mode*/   \n",
              "7                                         /*100 ms*/   \n",
              "8    /*on failure don't abort just issue a warning*/   \n",
              "9    /*on failure don't abort just issue a warning*/   \n",
              "\n",
              "                              SurroundingCodeContext       Class  \\\n",
              "0  -10.   int res = 0;\\n-9.   CURL *curl = NULL;\\...  Not Useful   \n",
              "1  -2.     fprintf(stderr, \"Usage: lib529 [url] [...  Not Useful   \n",
              "2  -10.   multi_add_handle(m, curl);\\n-9.   for(;...  Not Useful   \n",
              "3  -10.   int res = 0;\\n-9.   CURL *curl = NULL;\\...  Not Useful   \n",
              "4  -2.     fprintf(stderr, \"Usage: lib529 [url] [...  Not Useful   \n",
              "5  -9.  *\\n-8.  * You may opt to use, copy, modif...  Not Useful   \n",
              "6  -10.   if(!curl) {\\n-9.     fprintf(stderr, \"c...  Not Useful   \n",
              "7  -10.   multi_add_handle(mhandle, handle);\\n-9....  Not Useful   \n",
              "8  -10.    * point the resulting soft limit is ou...  Not Useful   \n",
              "9  -10.    * point the resulting soft limit is ou...  Not Useful   \n",
              "\n",
              "                                    cleaned_comments  \n",
              "0                                              test   \n",
              "1                                              test   \n",
              "2                                               done  \n",
              "3                                              test   \n",
              "4                                              test   \n",
              "5    url\\n    proxy\\n    nonzero means ascii tran...  \n",
              "6                              enable asciitext mode  \n",
              "7                                                 ms  \n",
              "8         on failure dont abort just issue a warning  \n",
              "9         on failure dont abort just issue a warning  "
            ],
            "text/html": [
              "\n",
              "  <div id=\"df-a4a22177-88b5-4b8e-a6e6-680bee1f1d28\">\n",
              "    <div class=\"colab-df-container\">\n",
              "      <div>\n",
              "<style scoped>\n",
              "    .dataframe tbody tr th:only-of-type {\n",
              "        vertical-align: middle;\n",
              "    }\n",
              "\n",
              "    .dataframe tbody tr th {\n",
              "        vertical-align: top;\n",
              "    }\n",
              "\n",
              "    .dataframe thead th {\n",
              "        text-align: right;\n",
              "    }\n",
              "</style>\n",
              "<table border=\"1\" class=\"dataframe\">\n",
              "  <thead>\n",
              "    <tr style=\"text-align: right;\">\n",
              "      <th></th>\n",
              "      <th>Comments</th>\n",
              "      <th>SurroundingCodeContext</th>\n",
              "      <th>Class</th>\n",
              "      <th>cleaned_comments</th>\n",
              "    </tr>\n",
              "  </thead>\n",
              "  <tbody>\n",
              "    <tr>\n",
              "      <th>0</th>\n",
              "      <td>/*test 529*/</td>\n",
              "      <td>-10.   int res = 0;\\n-9.   CURL *curl = NULL;\\...</td>\n",
              "      <td>Not Useful</td>\n",
              "      <td>test</td>\n",
              "    </tr>\n",
              "    <tr>\n",
              "      <th>1</th>\n",
              "      <td>/*test 525*/</td>\n",
              "      <td>-2.     fprintf(stderr, \"Usage: lib529 [url] [...</td>\n",
              "      <td>Not Useful</td>\n",
              "      <td>test</td>\n",
              "    </tr>\n",
              "    <tr>\n",
              "      <th>2</th>\n",
              "      <td>/*done*/</td>\n",
              "      <td>-10.   multi_add_handle(m, curl);\\n-9.   for(;...</td>\n",
              "      <td>Not Useful</td>\n",
              "      <td>done</td>\n",
              "    </tr>\n",
              "    <tr>\n",
              "      <th>3</th>\n",
              "      <td>/*test 529*/</td>\n",
              "      <td>-10.   int res = 0;\\n-9.   CURL *curl = NULL;\\...</td>\n",
              "      <td>Not Useful</td>\n",
              "      <td>test</td>\n",
              "    </tr>\n",
              "    <tr>\n",
              "      <th>4</th>\n",
              "      <td>/*test 525*/</td>\n",
              "      <td>-2.     fprintf(stderr, \"Usage: lib529 [url] [...</td>\n",
              "      <td>Not Useful</td>\n",
              "      <td>test</td>\n",
              "    </tr>\n",
              "    <tr>\n",
              "      <th>5</th>\n",
              "      <td>/*argv1 = URL\\n * argv2 = proxy\\n * argv3 = no...</td>\n",
              "      <td>-9.  *\\n-8.  * You may opt to use, copy, modif...</td>\n",
              "      <td>Not Useful</td>\n",
              "      <td>url\\n    proxy\\n    nonzero means ascii tran...</td>\n",
              "    </tr>\n",
              "    <tr>\n",
              "      <th>6</th>\n",
              "      <td>/*enable ascii/text mode*/</td>\n",
              "      <td>-10.   if(!curl) {\\n-9.     fprintf(stderr, \"c...</td>\n",
              "      <td>Not Useful</td>\n",
              "      <td>enable asciitext mode</td>\n",
              "    </tr>\n",
              "    <tr>\n",
              "      <th>7</th>\n",
              "      <td>/*100 ms*/</td>\n",
              "      <td>-10.   multi_add_handle(mhandle, handle);\\n-9....</td>\n",
              "      <td>Not Useful</td>\n",
              "      <td>ms</td>\n",
              "    </tr>\n",
              "    <tr>\n",
              "      <th>8</th>\n",
              "      <td>/*on failure don't abort just issue a warning*/</td>\n",
              "      <td>-10.    * point the resulting soft limit is ou...</td>\n",
              "      <td>Not Useful</td>\n",
              "      <td>on failure dont abort just issue a warning</td>\n",
              "    </tr>\n",
              "    <tr>\n",
              "      <th>9</th>\n",
              "      <td>/*on failure don't abort just issue a warning*/</td>\n",
              "      <td>-10.    * point the resulting soft limit is ou...</td>\n",
              "      <td>Not Useful</td>\n",
              "      <td>on failure dont abort just issue a warning</td>\n",
              "    </tr>\n",
              "  </tbody>\n",
              "</table>\n",
              "</div>\n",
              "      <button class=\"colab-df-convert\" onclick=\"convertToInteractive('df-a4a22177-88b5-4b8e-a6e6-680bee1f1d28')\"\n",
              "              title=\"Convert this dataframe to an interactive table.\"\n",
              "              style=\"display:none;\">\n",
              "        \n",
              "  <svg xmlns=\"http://www.w3.org/2000/svg\" height=\"24px\"viewBox=\"0 0 24 24\"\n",
              "       width=\"24px\">\n",
              "    <path d=\"M0 0h24v24H0V0z\" fill=\"none\"/>\n",
              "    <path d=\"M18.56 5.44l.94 2.06.94-2.06 2.06-.94-2.06-.94-.94-2.06-.94 2.06-2.06.94zm-11 1L8.5 8.5l.94-2.06 2.06-.94-2.06-.94L8.5 2.5l-.94 2.06-2.06.94zm10 10l.94 2.06.94-2.06 2.06-.94-2.06-.94-.94-2.06-.94 2.06-2.06.94z\"/><path d=\"M17.41 7.96l-1.37-1.37c-.4-.4-.92-.59-1.43-.59-.52 0-1.04.2-1.43.59L10.3 9.45l-7.72 7.72c-.78.78-.78 2.05 0 2.83L4 21.41c.39.39.9.59 1.41.59.51 0 1.02-.2 1.41-.59l7.78-7.78 2.81-2.81c.8-.78.8-2.07 0-2.86zM5.41 20L4 18.59l7.72-7.72 1.47 1.35L5.41 20z\"/>\n",
              "  </svg>\n",
              "      </button>\n",
              "      \n",
              "  <style>\n",
              "    .colab-df-container {\n",
              "      display:flex;\n",
              "      flex-wrap:wrap;\n",
              "      gap: 12px;\n",
              "    }\n",
              "\n",
              "    .colab-df-convert {\n",
              "      background-color: #E8F0FE;\n",
              "      border: none;\n",
              "      border-radius: 50%;\n",
              "      cursor: pointer;\n",
              "      display: none;\n",
              "      fill: #1967D2;\n",
              "      height: 32px;\n",
              "      padding: 0 0 0 0;\n",
              "      width: 32px;\n",
              "    }\n",
              "\n",
              "    .colab-df-convert:hover {\n",
              "      background-color: #E2EBFA;\n",
              "      box-shadow: 0px 1px 2px rgba(60, 64, 67, 0.3), 0px 1px 3px 1px rgba(60, 64, 67, 0.15);\n",
              "      fill: #174EA6;\n",
              "    }\n",
              "\n",
              "    [theme=dark] .colab-df-convert {\n",
              "      background-color: #3B4455;\n",
              "      fill: #D2E3FC;\n",
              "    }\n",
              "\n",
              "    [theme=dark] .colab-df-convert:hover {\n",
              "      background-color: #434B5C;\n",
              "      box-shadow: 0px 1px 3px 1px rgba(0, 0, 0, 0.15);\n",
              "      filter: drop-shadow(0px 1px 2px rgba(0, 0, 0, 0.3));\n",
              "      fill: #FFFFFF;\n",
              "    }\n",
              "  </style>\n",
              "\n",
              "      <script>\n",
              "        const buttonEl =\n",
              "          document.querySelector('#df-a4a22177-88b5-4b8e-a6e6-680bee1f1d28 button.colab-df-convert');\n",
              "        buttonEl.style.display =\n",
              "          google.colab.kernel.accessAllowed ? 'block' : 'none';\n",
              "\n",
              "        async function convertToInteractive(key) {\n",
              "          const element = document.querySelector('#df-a4a22177-88b5-4b8e-a6e6-680bee1f1d28');\n",
              "          const dataTable =\n",
              "            await google.colab.kernel.invokeFunction('convertToInteractive',\n",
              "                                                     [key], {});\n",
              "          if (!dataTable) return;\n",
              "\n",
              "          const docLinkHtml = 'Like what you see? Visit the ' +\n",
              "            '<a target=\"_blank\" href=https://colab.research.google.com/notebooks/data_table.ipynb>data table notebook</a>'\n",
              "            + ' to learn more about interactive tables.';\n",
              "          element.innerHTML = '';\n",
              "          dataTable['output_type'] = 'display_data';\n",
              "          await google.colab.output.renderOutput(dataTable, element);\n",
              "          const docLink = document.createElement('div');\n",
              "          docLink.innerHTML = docLinkHtml;\n",
              "          element.appendChild(docLink);\n",
              "        }\n",
              "      </script>\n",
              "    </div>\n",
              "  </div>\n",
              "  "
            ]
          },
          "metadata": {},
          "execution_count": 12
        }
      ]
    },
    {
      "cell_type": "code",
      "source": [
        "# Apply a second round of cleaning\n",
        "def text_clean_2(text):\n",
        "    text = re.sub('[‘’“”…]', '', text)\n",
        "    text = re.sub('\\n', '', text)\n",
        "    return text\n",
        "\n",
        "cleaned2 = lambda x: text_clean_2(x)"
      ],
      "metadata": {
        "id": "-2F0UgPx1bg9"
      },
      "execution_count": 13,
      "outputs": []
    },
    {
      "cell_type": "code",
      "source": [
        "# Let's take a look at the updated text\n",
        "data['cleaned_comments_new'] = pd.DataFrame(data['cleaned_comments'].apply(cleaned2))\n",
        "data.head(10)"
      ],
      "metadata": {
        "colab": {
          "base_uri": "https://localhost:8080/",
          "height": 363
        },
        "id": "GblJySzG1c6A",
        "outputId": "f8b019f6-241d-4d70-a675-cf6789122d45"
      },
      "execution_count": 14,
      "outputs": [
        {
          "output_type": "execute_result",
          "data": {
            "text/plain": [
              "                                            Comments  \\\n",
              "0                                       /*test 529*/   \n",
              "1                                       /*test 525*/   \n",
              "2                                           /*done*/   \n",
              "3                                       /*test 529*/   \n",
              "4                                       /*test 525*/   \n",
              "5  /*argv1 = URL\\n * argv2 = proxy\\n * argv3 = no...   \n",
              "6                         /*enable ascii/text mode*/   \n",
              "7                                         /*100 ms*/   \n",
              "8    /*on failure don't abort just issue a warning*/   \n",
              "9    /*on failure don't abort just issue a warning*/   \n",
              "\n",
              "                              SurroundingCodeContext       Class  \\\n",
              "0  -10.   int res = 0;\\n-9.   CURL *curl = NULL;\\...  Not Useful   \n",
              "1  -2.     fprintf(stderr, \"Usage: lib529 [url] [...  Not Useful   \n",
              "2  -10.   multi_add_handle(m, curl);\\n-9.   for(;...  Not Useful   \n",
              "3  -10.   int res = 0;\\n-9.   CURL *curl = NULL;\\...  Not Useful   \n",
              "4  -2.     fprintf(stderr, \"Usage: lib529 [url] [...  Not Useful   \n",
              "5  -9.  *\\n-8.  * You may opt to use, copy, modif...  Not Useful   \n",
              "6  -10.   if(!curl) {\\n-9.     fprintf(stderr, \"c...  Not Useful   \n",
              "7  -10.   multi_add_handle(mhandle, handle);\\n-9....  Not Useful   \n",
              "8  -10.    * point the resulting soft limit is ou...  Not Useful   \n",
              "9  -10.    * point the resulting soft limit is ou...  Not Useful   \n",
              "\n",
              "                                    cleaned_comments  \\\n",
              "0                                              test    \n",
              "1                                              test    \n",
              "2                                               done   \n",
              "3                                              test    \n",
              "4                                              test    \n",
              "5    url\\n    proxy\\n    nonzero means ascii tran...   \n",
              "6                              enable asciitext mode   \n",
              "7                                                 ms   \n",
              "8         on failure dont abort just issue a warning   \n",
              "9         on failure dont abort just issue a warning   \n",
              "\n",
              "                             cleaned_comments_new  \n",
              "0                                           test   \n",
              "1                                           test   \n",
              "2                                            done  \n",
              "3                                           test   \n",
              "4                                           test   \n",
              "5    url    proxy    nonzero means ascii transfer  \n",
              "6                           enable asciitext mode  \n",
              "7                                              ms  \n",
              "8      on failure dont abort just issue a warning  \n",
              "9      on failure dont abort just issue a warning  "
            ],
            "text/html": [
              "\n",
              "  <div id=\"df-2225ab3c-6f55-4233-ae6e-67b3d3380463\">\n",
              "    <div class=\"colab-df-container\">\n",
              "      <div>\n",
              "<style scoped>\n",
              "    .dataframe tbody tr th:only-of-type {\n",
              "        vertical-align: middle;\n",
              "    }\n",
              "\n",
              "    .dataframe tbody tr th {\n",
              "        vertical-align: top;\n",
              "    }\n",
              "\n",
              "    .dataframe thead th {\n",
              "        text-align: right;\n",
              "    }\n",
              "</style>\n",
              "<table border=\"1\" class=\"dataframe\">\n",
              "  <thead>\n",
              "    <tr style=\"text-align: right;\">\n",
              "      <th></th>\n",
              "      <th>Comments</th>\n",
              "      <th>SurroundingCodeContext</th>\n",
              "      <th>Class</th>\n",
              "      <th>cleaned_comments</th>\n",
              "      <th>cleaned_comments_new</th>\n",
              "    </tr>\n",
              "  </thead>\n",
              "  <tbody>\n",
              "    <tr>\n",
              "      <th>0</th>\n",
              "      <td>/*test 529*/</td>\n",
              "      <td>-10.   int res = 0;\\n-9.   CURL *curl = NULL;\\...</td>\n",
              "      <td>Not Useful</td>\n",
              "      <td>test</td>\n",
              "      <td>test</td>\n",
              "    </tr>\n",
              "    <tr>\n",
              "      <th>1</th>\n",
              "      <td>/*test 525*/</td>\n",
              "      <td>-2.     fprintf(stderr, \"Usage: lib529 [url] [...</td>\n",
              "      <td>Not Useful</td>\n",
              "      <td>test</td>\n",
              "      <td>test</td>\n",
              "    </tr>\n",
              "    <tr>\n",
              "      <th>2</th>\n",
              "      <td>/*done*/</td>\n",
              "      <td>-10.   multi_add_handle(m, curl);\\n-9.   for(;...</td>\n",
              "      <td>Not Useful</td>\n",
              "      <td>done</td>\n",
              "      <td>done</td>\n",
              "    </tr>\n",
              "    <tr>\n",
              "      <th>3</th>\n",
              "      <td>/*test 529*/</td>\n",
              "      <td>-10.   int res = 0;\\n-9.   CURL *curl = NULL;\\...</td>\n",
              "      <td>Not Useful</td>\n",
              "      <td>test</td>\n",
              "      <td>test</td>\n",
              "    </tr>\n",
              "    <tr>\n",
              "      <th>4</th>\n",
              "      <td>/*test 525*/</td>\n",
              "      <td>-2.     fprintf(stderr, \"Usage: lib529 [url] [...</td>\n",
              "      <td>Not Useful</td>\n",
              "      <td>test</td>\n",
              "      <td>test</td>\n",
              "    </tr>\n",
              "    <tr>\n",
              "      <th>5</th>\n",
              "      <td>/*argv1 = URL\\n * argv2 = proxy\\n * argv3 = no...</td>\n",
              "      <td>-9.  *\\n-8.  * You may opt to use, copy, modif...</td>\n",
              "      <td>Not Useful</td>\n",
              "      <td>url\\n    proxy\\n    nonzero means ascii tran...</td>\n",
              "      <td>url    proxy    nonzero means ascii transfer</td>\n",
              "    </tr>\n",
              "    <tr>\n",
              "      <th>6</th>\n",
              "      <td>/*enable ascii/text mode*/</td>\n",
              "      <td>-10.   if(!curl) {\\n-9.     fprintf(stderr, \"c...</td>\n",
              "      <td>Not Useful</td>\n",
              "      <td>enable asciitext mode</td>\n",
              "      <td>enable asciitext mode</td>\n",
              "    </tr>\n",
              "    <tr>\n",
              "      <th>7</th>\n",
              "      <td>/*100 ms*/</td>\n",
              "      <td>-10.   multi_add_handle(mhandle, handle);\\n-9....</td>\n",
              "      <td>Not Useful</td>\n",
              "      <td>ms</td>\n",
              "      <td>ms</td>\n",
              "    </tr>\n",
              "    <tr>\n",
              "      <th>8</th>\n",
              "      <td>/*on failure don't abort just issue a warning*/</td>\n",
              "      <td>-10.    * point the resulting soft limit is ou...</td>\n",
              "      <td>Not Useful</td>\n",
              "      <td>on failure dont abort just issue a warning</td>\n",
              "      <td>on failure dont abort just issue a warning</td>\n",
              "    </tr>\n",
              "    <tr>\n",
              "      <th>9</th>\n",
              "      <td>/*on failure don't abort just issue a warning*/</td>\n",
              "      <td>-10.    * point the resulting soft limit is ou...</td>\n",
              "      <td>Not Useful</td>\n",
              "      <td>on failure dont abort just issue a warning</td>\n",
              "      <td>on failure dont abort just issue a warning</td>\n",
              "    </tr>\n",
              "  </tbody>\n",
              "</table>\n",
              "</div>\n",
              "      <button class=\"colab-df-convert\" onclick=\"convertToInteractive('df-2225ab3c-6f55-4233-ae6e-67b3d3380463')\"\n",
              "              title=\"Convert this dataframe to an interactive table.\"\n",
              "              style=\"display:none;\">\n",
              "        \n",
              "  <svg xmlns=\"http://www.w3.org/2000/svg\" height=\"24px\"viewBox=\"0 0 24 24\"\n",
              "       width=\"24px\">\n",
              "    <path d=\"M0 0h24v24H0V0z\" fill=\"none\"/>\n",
              "    <path d=\"M18.56 5.44l.94 2.06.94-2.06 2.06-.94-2.06-.94-.94-2.06-.94 2.06-2.06.94zm-11 1L8.5 8.5l.94-2.06 2.06-.94-2.06-.94L8.5 2.5l-.94 2.06-2.06.94zm10 10l.94 2.06.94-2.06 2.06-.94-2.06-.94-.94-2.06-.94 2.06-2.06.94z\"/><path d=\"M17.41 7.96l-1.37-1.37c-.4-.4-.92-.59-1.43-.59-.52 0-1.04.2-1.43.59L10.3 9.45l-7.72 7.72c-.78.78-.78 2.05 0 2.83L4 21.41c.39.39.9.59 1.41.59.51 0 1.02-.2 1.41-.59l7.78-7.78 2.81-2.81c.8-.78.8-2.07 0-2.86zM5.41 20L4 18.59l7.72-7.72 1.47 1.35L5.41 20z\"/>\n",
              "  </svg>\n",
              "      </button>\n",
              "      \n",
              "  <style>\n",
              "    .colab-df-container {\n",
              "      display:flex;\n",
              "      flex-wrap:wrap;\n",
              "      gap: 12px;\n",
              "    }\n",
              "\n",
              "    .colab-df-convert {\n",
              "      background-color: #E8F0FE;\n",
              "      border: none;\n",
              "      border-radius: 50%;\n",
              "      cursor: pointer;\n",
              "      display: none;\n",
              "      fill: #1967D2;\n",
              "      height: 32px;\n",
              "      padding: 0 0 0 0;\n",
              "      width: 32px;\n",
              "    }\n",
              "\n",
              "    .colab-df-convert:hover {\n",
              "      background-color: #E2EBFA;\n",
              "      box-shadow: 0px 1px 2px rgba(60, 64, 67, 0.3), 0px 1px 3px 1px rgba(60, 64, 67, 0.15);\n",
              "      fill: #174EA6;\n",
              "    }\n",
              "\n",
              "    [theme=dark] .colab-df-convert {\n",
              "      background-color: #3B4455;\n",
              "      fill: #D2E3FC;\n",
              "    }\n",
              "\n",
              "    [theme=dark] .colab-df-convert:hover {\n",
              "      background-color: #434B5C;\n",
              "      box-shadow: 0px 1px 3px 1px rgba(0, 0, 0, 0.15);\n",
              "      filter: drop-shadow(0px 1px 2px rgba(0, 0, 0, 0.3));\n",
              "      fill: #FFFFFF;\n",
              "    }\n",
              "  </style>\n",
              "\n",
              "      <script>\n",
              "        const buttonEl =\n",
              "          document.querySelector('#df-2225ab3c-6f55-4233-ae6e-67b3d3380463 button.colab-df-convert');\n",
              "        buttonEl.style.display =\n",
              "          google.colab.kernel.accessAllowed ? 'block' : 'none';\n",
              "\n",
              "        async function convertToInteractive(key) {\n",
              "          const element = document.querySelector('#df-2225ab3c-6f55-4233-ae6e-67b3d3380463');\n",
              "          const dataTable =\n",
              "            await google.colab.kernel.invokeFunction('convertToInteractive',\n",
              "                                                     [key], {});\n",
              "          if (!dataTable) return;\n",
              "\n",
              "          const docLinkHtml = 'Like what you see? Visit the ' +\n",
              "            '<a target=\"_blank\" href=https://colab.research.google.com/notebooks/data_table.ipynb>data table notebook</a>'\n",
              "            + ' to learn more about interactive tables.';\n",
              "          element.innerHTML = '';\n",
              "          dataTable['output_type'] = 'display_data';\n",
              "          await google.colab.output.renderOutput(dataTable, element);\n",
              "          const docLink = document.createElement('div');\n",
              "          docLink.innerHTML = docLinkHtml;\n",
              "          element.appendChild(docLink);\n",
              "        }\n",
              "      </script>\n",
              "    </div>\n",
              "  </div>\n",
              "  "
            ]
          },
          "metadata": {},
          "execution_count": 14
        }
      ]
    },
    {
      "cell_type": "code",
      "source": [],
      "metadata": {
        "id": "v_wxLEcLrATY"
      },
      "execution_count": null,
      "outputs": []
    },
    {
      "cell_type": "markdown",
      "source": [
        "# **MODEL TRAINING**"
      ],
      "metadata": {
        "id": "jYIlAYme1qXX"
      }
    },
    {
      "cell_type": "code",
      "source": [
        "from sklearn.model_selection import train_test_split\n",
        "\n",
        "Independent_var = data.cleaned_comments_new\n",
        "#Independent_var2 = Reviewdata.cleaned_code_new\n",
        "Dependent_var = data.Class\n",
        "\n",
        "IV_train, IV_test, DV_train, DV_test = train_test_split(Independent_var, Dependent_var, test_size = 0.1, random_state = 225)\n",
        "\n",
        "print('IV_train :', len(IV_train))\n",
        "print('IV_test  :', len(IV_test))\n",
        "print('DV_train :', len(DV_train))\n",
        "print('DV_test  :', len(DV_test))"
      ],
      "metadata": {
        "colab": {
          "base_uri": "https://localhost:8080/"
        },
        "id": "PYb_SsjV1zZh",
        "outputId": "5882ba8c-0ffc-4610-b637-49de2b690917"
      },
      "execution_count": 15,
      "outputs": [
        {
          "output_type": "stream",
          "name": "stdout",
          "text": [
            "IV_train : 7242\n",
            "IV_test  : 805\n",
            "DV_train : 7242\n",
            "DV_test  : 805\n"
          ]
        }
      ]
    },
    {
      "cell_type": "markdown",
      "source": [
        "# **LOGISTIC REGRESSION**"
      ],
      "metadata": {
        "id": "_suNfe6fmZWa"
      }
    },
    {
      "cell_type": "code",
      "source": [
        "#the tf idf vector -> frequency of the repeating words occuring most\n",
        "# LR -> for classification\n",
        "from sklearn.feature_extraction.text import TfidfVectorizer\n",
        "from sklearn.linear_model import LogisticRegression\n",
        "from sklearn.metrics import roc_curve, roc_auc_score\n",
        "import matplotlib.pyplot as plt\n",
        "import sklearn.metrics as metrics\n",
        "from sklearn.metrics import classification_report, confusion_matrix\n",
        "\n",
        "\n",
        "tvec = TfidfVectorizer()\n",
        "clf2 = LogisticRegression(solver = \"lbfgs\")\n",
        "\n",
        "\n",
        "#creating a pipeline -> one by one step\n",
        "from sklearn.pipeline import Pipeline\n",
        "\n",
        "#pipeline first works in vect. then classify\n",
        "model = Pipeline([('vectorizer',tvec),('classifier',clf2)])\n",
        "\n",
        "model.fit(IV_train, DV_train) #->for test data\n",
        "\n",
        "\n",
        "\n",
        "from sklearn.metrics import confusion_matrix\n",
        "\n",
        "predictions = model.predict(IV_test)\n",
        "\n",
        "\n",
        "confusion_matrix(predictions, DV_test)\n",
        "pd2 = pd.DataFrame(confusion_matrix(predictions, DV_test), \n",
        "             columns=['Predicted Negative', 'Predicted Positive'], \n",
        "             index=['Actual Negative', 'Actual Positive'])\n",
        "print(pd2)\n",
        "\n",
        "print(\"=== Confusion Matrix ===\")\n",
        "print(confusion_matrix(predictions, DV_test))\n",
        "from sklearn.metrics import accuracy_score, precision_score, recall_score\n",
        "\n",
        "\n",
        "print(classification_report(predictions, DV_test))\n",
        "\n",
        "print(\"Accuracy : \", accuracy_score(predictions, DV_test))\n",
        "print(\"Precision : \", precision_score(predictions, DV_test, average = 'weighted'))\n",
        "print(\"Recall : \", recall_score(predictions, DV_test, average = 'weighted'))\n",
        "\n",
        "\n"
      ],
      "metadata": {
        "id": "tXQDeYSD2GJx",
        "colab": {
          "base_uri": "https://localhost:8080/"
        },
        "outputId": "01dbaf04-f0c8-4ad7-9668-47542737e095"
      },
      "execution_count": 20,
      "outputs": [
        {
          "output_type": "stream",
          "name": "stdout",
          "text": [
            "                 Predicted Negative  Predicted Positive\n",
            "Actual Negative                 259                  99\n",
            "Actual Positive                  99                 348\n",
            "=== Confusion Matrix ===\n",
            "[[259  99]\n",
            " [ 99 348]]\n",
            "              precision    recall  f1-score   support\n",
            "\n",
            "  Not Useful       0.72      0.72      0.72       358\n",
            "      Useful       0.78      0.78      0.78       447\n",
            "\n",
            "    accuracy                           0.75       805\n",
            "   macro avg       0.75      0.75      0.75       805\n",
            "weighted avg       0.75      0.75      0.75       805\n",
            "\n",
            "Accuracy :  0.7540372670807454\n",
            "Precision :  0.7540372670807454\n",
            "Recall :  0.7540372670807454\n"
          ]
        }
      ]
    },
    {
      "cell_type": "code",
      "source": [
        "import sklearn.metrics as metrics\n",
        "# calculate the fpr and tpr for all thresholds of the classification\n",
        "probs = model.predict_proba(IV_test)\n",
        "preds = probs[:,1]\n",
        "fpr, tpr, threshold = metrics.roc_curve(IV_test, preds, pos_label=1)\n",
        "roc_auc = metrics.auc(fpr, tpr)"
      ],
      "metadata": {
        "colab": {
          "base_uri": "https://localhost:8080/"
        },
        "id": "k1mCTSy6AmYG",
        "outputId": "aa050fd0-4164-4c29-e83e-1cf3ba7de040"
      },
      "execution_count": 22,
      "outputs": [
        {
          "output_type": "stream",
          "name": "stderr",
          "text": [
            "/usr/local/lib/python3.7/dist-packages/sklearn/metrics/_ranking.py:1001: UndefinedMetricWarning: No positive samples in y_true, true positive value should be meaningless\n",
            "  UndefinedMetricWarning,\n"
          ]
        }
      ]
    },
    {
      "cell_type": "markdown",
      "source": [
        "# **RANDOM FOREST CLASSIFIER**"
      ],
      "metadata": {
        "id": "XCUi6xtpmM7H"
      }
    },
    {
      "cell_type": "code",
      "source": [
        "from sklearn.ensemble import RandomForestClassifier\n",
        "from sklearn import model_selection\n",
        "# random forest model creation\n",
        "\n",
        "rfc = RandomForestClassifier()\n",
        "model = Pipeline(steps=[('vectorizer', TfidfVectorizer()),\n",
        "                ('classifier', RandomForestClassifier())])\n",
        "model.fit(IV_train,DV_train)\n",
        "\n",
        "\n",
        "from sklearn.metrics import confusion_matrix\n",
        "\n",
        "predictions = model.predict(IV_test)\n",
        "\n",
        "confusion_matrix(predictions, DV_test)\n"
      ],
      "metadata": {
        "colab": {
          "base_uri": "https://localhost:8080/"
        },
        "id": "meQFcQymisD3",
        "outputId": "a0bc747c-b012-4443-e9b0-f2c8c70c0b09"
      },
      "execution_count": 17,
      "outputs": [
        {
          "output_type": "execute_result",
          "data": {
            "text/plain": [
              "array([[265,  92],\n",
              "       [ 93, 355]])"
            ]
          },
          "metadata": {},
          "execution_count": 17
        }
      ]
    },
    {
      "cell_type": "code",
      "source": [
        "from sklearn.model_selection import cross_val_score\n",
        "from sklearn.metrics import classification_report, confusion_matrix\n",
        "X = data.cleaned_comments_new\n",
        "y = data.Class\n",
        "rfc_cv_score = cross_val_score(model, X, y, cv=10, scoring='roc_auc')\n",
        "print(\"=== Confusion Matrix ===\")\n",
        "print(confusion_matrix(predictions, DV_test))\n",
        "print('\\n')\n",
        "print(\"=== Classification Report ===\")\n",
        "print(classification_report(DV_test, predictions))\n",
        "print('\\n')\n",
        "print(\"=== All AUC Scores ===\")\n",
        "print(rfc_cv_score)\n",
        "print('\\n')\n",
        "print(\"=== Mean AUC Score ===\")\n",
        "print(\"Mean AUC Score - Random Forest: \", rfc_cv_score.mean())\n",
        "\n",
        "from sklearn.metrics import accuracy_score, precision_score, recall_score\n",
        "\n",
        "print(\"Accuracy : \", accuracy_score(predictions, DV_test))\n",
        "print(\"Precision : \", precision_score(predictions, DV_test, average = 'weighted'))\n",
        "print(\"Recall : \", recall_score(predictions, DV_test, average = 'weighted'))"
      ],
      "metadata": {
        "colab": {
          "base_uri": "https://localhost:8080/"
        },
        "id": "TypOqw2kj5Vs",
        "outputId": "6d2c5fd2-0a5f-47b1-dbd4-c01120dc1f8f"
      },
      "execution_count": 18,
      "outputs": [
        {
          "output_type": "stream",
          "name": "stdout",
          "text": [
            "=== Confusion Matrix ===\n",
            "[[265  92]\n",
            " [ 93 355]]\n",
            "\n",
            "\n",
            "=== Classification Report ===\n",
            "              precision    recall  f1-score   support\n",
            "\n",
            "  Not Useful       0.74      0.74      0.74       358\n",
            "      Useful       0.79      0.79      0.79       447\n",
            "\n",
            "    accuracy                           0.77       805\n",
            "   macro avg       0.77      0.77      0.77       805\n",
            "weighted avg       0.77      0.77      0.77       805\n",
            "\n",
            "\n",
            "\n",
            "=== All AUC Scores ===\n",
            "[0.64574509 0.78914256 0.64318941 0.59953482 0.78330145 0.70828313\n",
            " 0.93516092 0.84059374 0.85898545 0.8795279 ]\n",
            "\n",
            "\n",
            "=== Mean AUC Score ===\n",
            "Mean AUC Score - Random Forest:  0.7683464473460645\n",
            "Accuracy :  0.7701863354037267\n",
            "Precision :  0.7702533664366497\n",
            "Recall :  0.7701863354037267\n"
          ]
        }
      ]
    },
    {
      "cell_type": "markdown",
      "source": [
        "# **SUPPORT VECTOR MACHINE**"
      ],
      "metadata": {
        "id": "3dWfiYlBmizw"
      }
    },
    {
      "cell_type": "code",
      "source": [
        "from sklearn.svm import SVC\n",
        "from sklearn.metrics import accuracy_score\n",
        "\n",
        "svc=SVC() \n",
        "model = Pipeline(steps=[('vectorizer', TfidfVectorizer()),\n",
        "                ('classifier', SVC())])\n",
        "model.fit(IV_train,DV_train)\n",
        "\n",
        "\n",
        "from sklearn.metrics import confusion_matrix\n",
        "\n",
        "predictions = model.predict(IV_test)\n",
        "\n",
        "confusion_matrix(predictions, DV_test)\n",
        "\n",
        "print(\"=== Confusion Matrix ===\")\n",
        "print(confusion_matrix(predictions, DV_test))\n",
        "from sklearn.metrics import accuracy_score, precision_score, recall_score\n",
        "from sklearn.metrics import classification_report\n",
        "\n",
        "print(classification_report(predictions, DV_test))\n",
        "\n",
        "print(\"Accuracy : \", accuracy_score(predictions, DV_test))\n",
        "print(\"Precision : \", precision_score(predictions, DV_test, average = 'weighted'))\n",
        "print(\"Recall : \", recall_score(predictions, DV_test, average = 'weighted'))"
      ],
      "metadata": {
        "colab": {
          "base_uri": "https://localhost:8080/"
        },
        "id": "zjT8yV04gg8c",
        "outputId": "9c61833c-3fdd-4a46-f91a-4d3b3ae71cdc"
      },
      "execution_count": 19,
      "outputs": [
        {
          "output_type": "stream",
          "name": "stdout",
          "text": [
            "=== Confusion Matrix ===\n",
            "[[259  99]\n",
            " [ 99 348]]\n",
            "              precision    recall  f1-score   support\n",
            "\n",
            "  Not Useful       0.72      0.72      0.72       358\n",
            "      Useful       0.78      0.78      0.78       447\n",
            "\n",
            "    accuracy                           0.75       805\n",
            "   macro avg       0.75      0.75      0.75       805\n",
            "weighted avg       0.75      0.75      0.75       805\n",
            "\n",
            "Accuracy :  0.7540372670807454\n",
            "Precision :  0.7540372670807454\n",
            "Recall :  0.7540372670807454\n"
          ]
        }
      ]
    },
    {
      "cell_type": "markdown",
      "source": [
        "# **TRYING ON EXAMPLES**"
      ],
      "metadata": {
        "id": "2fg8FmXK4GsC"
      }
    },
    {
      "cell_type": "code",
      "source": [
        "#not useful class\n",
        "example = [\"/*Backwards compatibility.*/\"]\n",
        "result = model.predict(example)\n",
        "\n",
        "print(result)"
      ],
      "metadata": {
        "colab": {
          "base_uri": "https://localhost:8080/"
        },
        "id": "ko6Z-3f12wSj",
        "outputId": "0698f131-cd27-4cad-fc07-e2fb791593fc"
      },
      "execution_count": 21,
      "outputs": [
        {
          "output_type": "stream",
          "name": "stdout",
          "text": [
            "['Not Useful']\n"
          ]
        }
      ]
    },
    {
      "cell_type": "code",
      "source": [
        "#useful class\n",
        "example = [\"/*Duplicated code because this is called from other parts of the library.*/\"]\n",
        "result = model.predict(example)\n",
        "\n",
        "print(result)"
      ],
      "metadata": {
        "colab": {
          "base_uri": "https://localhost:8080/"
        },
        "id": "fxQ5i2pMjisJ",
        "outputId": "09749f04-8147-4aba-c6b1-2ec908988cb1"
      },
      "execution_count": 23,
      "outputs": [
        {
          "output_type": "stream",
          "name": "stdout",
          "text": [
            "['Useful']\n"
          ]
        }
      ]
    },
    {
      "cell_type": "code",
      "source": [
        "#not useful class\n",
        "example = [\"/*Duplicated code*/\"]\n",
        "result = model.predict(example)\n",
        "\n",
        "print(result)"
      ],
      "metadata": {
        "colab": {
          "base_uri": "https://localhost:8080/"
        },
        "id": "HBlaAi0Kj_1Z",
        "outputId": "c4f4d0d6-2ace-4ac0-b27a-b2d8b5994f65"
      },
      "execution_count": 24,
      "outputs": [
        {
          "output_type": "stream",
          "name": "stdout",
          "text": [
            "['Not Useful']\n"
          ]
        }
      ]
    },
    {
      "cell_type": "code",
      "source": [
        "#not useful class\n",
        "example = [\"/*recall*/\"]\n",
        "result = model.predict(example)\n",
        "\n",
        "print(result)"
      ],
      "metadata": {
        "colab": {
          "base_uri": "https://localhost:8080/"
        },
        "id": "cfVL_yqRkFCG",
        "outputId": "9245458c-42f0-49b2-e10e-cfd02053bbd2"
      },
      "execution_count": 25,
      "outputs": [
        {
          "output_type": "stream",
          "name": "stdout",
          "text": [
            "['Not Useful']\n"
          ]
        }
      ]
    }
  ]
}